{
 "cells": [
  {
   "cell_type": "code",
   "execution_count": 59,
   "id": "ab79d1bf",
   "metadata": {},
   "outputs": [],
   "source": [
    "import pandas as pd\n",
    "import numpy as np\n",
    "import matplotlib.pyplot as plt\n",
    "import seaborn as sns"
   ]
  },
  {
   "cell_type": "markdown",
   "id": "94744b58",
   "metadata": {},
   "source": [
    "## Goal, purpose, target and initial hypothesis\n",
    "#### Goal - Reduce churn\n",
    "#### Purpose - Prevent revenue lost due to customers leaving (who are then typically harder/costlier to get back).  Could also indicate service delivery issues we aren't aware of.\n",
    "#### Target - Churn\n",
    "#### Constraints - Cannot remove month-to-month service plan\n",
    "#### Initial hypotheses:"
   ]
  },
  {
   "cell_type": "markdown",
   "id": "45ab0aab",
   "metadata": {},
   "source": [
    "- Having to pay by check each month makes customers more prone to churn (extra work)\n",
    "- Having multiple services makes customers less likely to churn\n",
    "- Type of internet services may have an impact (one may be slower or costlier)\n",
    "- Larger familes (i.e. dependants & partners) may impact churn - could adjust business plans to accomodate\n",
    "- Number of phone lines may impact churn - more phone lines are probably lower churn."
   ]
  },
  {
   "cell_type": "code",
   "execution_count": 60,
   "id": "01d7120a",
   "metadata": {},
   "outputs": [
    {
     "name": "stdout",
     "output_type": "stream",
     "text": [
      "<class 'pandas.core.frame.DataFrame'>\n",
      "RangeIndex: 7049 entries, 0 to 7048\n",
      "Data columns (total 19 columns):\n",
      " #   Column                     Non-Null Count  Dtype  \n",
      "---  ------                     --------------  -----  \n",
      " 0   customer_id                7049 non-null   object \n",
      " 1   gender                     7049 non-null   object \n",
      " 2   is_senior_bool             7049 non-null   int64  \n",
      " 3   is_senior                  7049 non-null   object \n",
      " 4   payment_type               7049 non-null   object \n",
      " 5   monthly_charges            7049 non-null   float64\n",
      " 6   total_charges              7038 non-null   float64\n",
      " 7   churn                      7049 non-null   object \n",
      " 8   tenure                     7049 non-null   float64\n",
      " 9   is_female_bool             7049 non-null   int64  \n",
      " 10  has_churned_bool           7049 non-null   int64  \n",
      " 11  has_phone_bool             7049 non-null   int64  \n",
      " 12  has_internet_bool          7049 non-null   int64  \n",
      " 13  contract_details           7049 non-null   object \n",
      " 14  phone_service_details      7049 non-null   object \n",
      " 15  internet_service_details   7049 non-null   object \n",
      " 16  service_combination        7049 non-null   object \n",
      " 17  partner_dependants_status  7049 non-null   object \n",
      " 18  full_months_tenure         7049 non-null   int64  \n",
      "dtypes: float64(3), int64(6), object(10)\n",
      "memory usage: 1.0+ MB\n"
     ]
    }
   ],
   "source": [
    "df = pd.read_csv('storytelling_project_data.csv')\n",
    "df.info()"
   ]
  },
  {
   "cell_type": "code",
   "execution_count": 61,
   "id": "e9b5b5a7",
   "metadata": {},
   "outputs": [
    {
     "data": {
      "text/html": [
       "<div>\n",
       "<style scoped>\n",
       "    .dataframe tbody tr th:only-of-type {\n",
       "        vertical-align: middle;\n",
       "    }\n",
       "\n",
       "    .dataframe tbody tr th {\n",
       "        vertical-align: top;\n",
       "    }\n",
       "\n",
       "    .dataframe thead th {\n",
       "        text-align: right;\n",
       "    }\n",
       "</style>\n",
       "<table border=\"1\" class=\"dataframe\">\n",
       "  <thead>\n",
       "    <tr style=\"text-align: right;\">\n",
       "      <th></th>\n",
       "      <th>0</th>\n",
       "      <th>1</th>\n",
       "      <th>2</th>\n",
       "      <th>3</th>\n",
       "      <th>4</th>\n",
       "    </tr>\n",
       "  </thead>\n",
       "  <tbody>\n",
       "    <tr>\n",
       "      <th>customer_id</th>\n",
       "      <td>0002-ORFBO</td>\n",
       "      <td>0003-MKNFE</td>\n",
       "      <td>0004-TLHLJ</td>\n",
       "      <td>0011-IGKFF</td>\n",
       "      <td>0013-EXCHZ</td>\n",
       "    </tr>\n",
       "    <tr>\n",
       "      <th>gender</th>\n",
       "      <td>Female</td>\n",
       "      <td>Male</td>\n",
       "      <td>Male</td>\n",
       "      <td>Male</td>\n",
       "      <td>Female</td>\n",
       "    </tr>\n",
       "    <tr>\n",
       "      <th>is_senior_bool</th>\n",
       "      <td>0</td>\n",
       "      <td>0</td>\n",
       "      <td>0</td>\n",
       "      <td>1</td>\n",
       "      <td>1</td>\n",
       "    </tr>\n",
       "    <tr>\n",
       "      <th>is_senior</th>\n",
       "      <td>Non-Senior Citizen</td>\n",
       "      <td>Non-Senior Citizen</td>\n",
       "      <td>Non-Senior Citizen</td>\n",
       "      <td>Senior Citizen</td>\n",
       "      <td>Senior Citizen</td>\n",
       "    </tr>\n",
       "    <tr>\n",
       "      <th>payment_type</th>\n",
       "      <td>Mailed check</td>\n",
       "      <td>Mailed check</td>\n",
       "      <td>Electronic check</td>\n",
       "      <td>Electronic check</td>\n",
       "      <td>Mailed check</td>\n",
       "    </tr>\n",
       "    <tr>\n",
       "      <th>monthly_charges</th>\n",
       "      <td>65.6</td>\n",
       "      <td>59.9</td>\n",
       "      <td>73.9</td>\n",
       "      <td>98.0</td>\n",
       "      <td>83.9</td>\n",
       "    </tr>\n",
       "    <tr>\n",
       "      <th>total_charges</th>\n",
       "      <td>593.3</td>\n",
       "      <td>542.4</td>\n",
       "      <td>280.85</td>\n",
       "      <td>1237.85</td>\n",
       "      <td>267.4</td>\n",
       "    </tr>\n",
       "    <tr>\n",
       "      <th>churn</th>\n",
       "      <td>No</td>\n",
       "      <td>No</td>\n",
       "      <td>Yes</td>\n",
       "      <td>Yes</td>\n",
       "      <td>Yes</td>\n",
       "    </tr>\n",
       "    <tr>\n",
       "      <th>tenure</th>\n",
       "      <td>9.0</td>\n",
       "      <td>9.1</td>\n",
       "      <td>3.8</td>\n",
       "      <td>12.6</td>\n",
       "      <td>3.2</td>\n",
       "    </tr>\n",
       "    <tr>\n",
       "      <th>is_female_bool</th>\n",
       "      <td>1</td>\n",
       "      <td>0</td>\n",
       "      <td>0</td>\n",
       "      <td>0</td>\n",
       "      <td>1</td>\n",
       "    </tr>\n",
       "    <tr>\n",
       "      <th>has_churned_bool</th>\n",
       "      <td>0</td>\n",
       "      <td>0</td>\n",
       "      <td>1</td>\n",
       "      <td>1</td>\n",
       "      <td>1</td>\n",
       "    </tr>\n",
       "    <tr>\n",
       "      <th>has_phone_bool</th>\n",
       "      <td>1</td>\n",
       "      <td>1</td>\n",
       "      <td>1</td>\n",
       "      <td>1</td>\n",
       "      <td>1</td>\n",
       "    </tr>\n",
       "    <tr>\n",
       "      <th>has_internet_bool</th>\n",
       "      <td>1</td>\n",
       "      <td>1</td>\n",
       "      <td>1</td>\n",
       "      <td>1</td>\n",
       "      <td>1</td>\n",
       "    </tr>\n",
       "    <tr>\n",
       "      <th>contract_details</th>\n",
       "      <td>1 Year</td>\n",
       "      <td>Month-to-Month</td>\n",
       "      <td>Month-to-Month</td>\n",
       "      <td>Month-to-Month</td>\n",
       "      <td>Month-to-Month</td>\n",
       "    </tr>\n",
       "    <tr>\n",
       "      <th>phone_service_details</th>\n",
       "      <td>One Line</td>\n",
       "      <td>Two or More Lines</td>\n",
       "      <td>One Line</td>\n",
       "      <td>One Line</td>\n",
       "      <td>One Line</td>\n",
       "    </tr>\n",
       "    <tr>\n",
       "      <th>internet_service_details</th>\n",
       "      <td>DSL</td>\n",
       "      <td>DSL</td>\n",
       "      <td>Fiber Optic</td>\n",
       "      <td>Fiber Optic</td>\n",
       "      <td>Fiber Optic</td>\n",
       "    </tr>\n",
       "    <tr>\n",
       "      <th>service_combination</th>\n",
       "      <td>Phone &amp; Internet</td>\n",
       "      <td>Phone &amp; Internet</td>\n",
       "      <td>Phone &amp; Internet</td>\n",
       "      <td>Phone &amp; Internet</td>\n",
       "      <td>Phone &amp; Internet</td>\n",
       "    </tr>\n",
       "    <tr>\n",
       "      <th>partner_dependants_status</th>\n",
       "      <td>Partner &amp; Dependants</td>\n",
       "      <td>Lives Alone</td>\n",
       "      <td>Lives Alone</td>\n",
       "      <td>Partner Only</td>\n",
       "      <td>Partner Only</td>\n",
       "    </tr>\n",
       "    <tr>\n",
       "      <th>full_months_tenure</th>\n",
       "      <td>9</td>\n",
       "      <td>9</td>\n",
       "      <td>3</td>\n",
       "      <td>12</td>\n",
       "      <td>3</td>\n",
       "    </tr>\n",
       "  </tbody>\n",
       "</table>\n",
       "</div>"
      ],
      "text/plain": [
       "                                              0                   1  \\\n",
       "customer_id                          0002-ORFBO          0003-MKNFE   \n",
       "gender                                   Female                Male   \n",
       "is_senior_bool                                0                   0   \n",
       "is_senior                    Non-Senior Citizen  Non-Senior Citizen   \n",
       "payment_type                       Mailed check        Mailed check   \n",
       "monthly_charges                            65.6                59.9   \n",
       "total_charges                             593.3               542.4   \n",
       "churn                                        No                  No   \n",
       "tenure                                      9.0                 9.1   \n",
       "is_female_bool                                1                   0   \n",
       "has_churned_bool                              0                   0   \n",
       "has_phone_bool                                1                   1   \n",
       "has_internet_bool                             1                   1   \n",
       "contract_details                         1 Year      Month-to-Month   \n",
       "phone_service_details                  One Line   Two or More Lines   \n",
       "internet_service_details                    DSL                 DSL   \n",
       "service_combination            Phone & Internet    Phone & Internet   \n",
       "partner_dependants_status  Partner & Dependants         Lives Alone   \n",
       "full_months_tenure                            9                   9   \n",
       "\n",
       "                                            2                 3  \\\n",
       "customer_id                        0004-TLHLJ        0011-IGKFF   \n",
       "gender                                   Male              Male   \n",
       "is_senior_bool                              0                 1   \n",
       "is_senior                  Non-Senior Citizen    Senior Citizen   \n",
       "payment_type                 Electronic check  Electronic check   \n",
       "monthly_charges                          73.9              98.0   \n",
       "total_charges                          280.85           1237.85   \n",
       "churn                                     Yes               Yes   \n",
       "tenure                                    3.8              12.6   \n",
       "is_female_bool                              0                 0   \n",
       "has_churned_bool                            1                 1   \n",
       "has_phone_bool                              1                 1   \n",
       "has_internet_bool                           1                 1   \n",
       "contract_details               Month-to-Month    Month-to-Month   \n",
       "phone_service_details                One Line          One Line   \n",
       "internet_service_details          Fiber Optic       Fiber Optic   \n",
       "service_combination          Phone & Internet  Phone & Internet   \n",
       "partner_dependants_status         Lives Alone      Partner Only   \n",
       "full_months_tenure                          3                12   \n",
       "\n",
       "                                          4  \n",
       "customer_id                      0013-EXCHZ  \n",
       "gender                               Female  \n",
       "is_senior_bool                            1  \n",
       "is_senior                    Senior Citizen  \n",
       "payment_type                   Mailed check  \n",
       "monthly_charges                        83.9  \n",
       "total_charges                         267.4  \n",
       "churn                                   Yes  \n",
       "tenure                                  3.2  \n",
       "is_female_bool                            1  \n",
       "has_churned_bool                          1  \n",
       "has_phone_bool                            1  \n",
       "has_internet_bool                         1  \n",
       "contract_details             Month-to-Month  \n",
       "phone_service_details              One Line  \n",
       "internet_service_details        Fiber Optic  \n",
       "service_combination        Phone & Internet  \n",
       "partner_dependants_status      Partner Only  \n",
       "full_months_tenure                        3  "
      ]
     },
     "execution_count": 61,
     "metadata": {},
     "output_type": "execute_result"
    }
   ],
   "source": [
    "df.head(5).T"
   ]
  },
  {
   "cell_type": "code",
   "execution_count": 62,
   "id": "416058f2",
   "metadata": {},
   "outputs": [
    {
     "data": {
      "text/plain": [
       "0.2652858561498085"
      ]
     },
     "execution_count": 62,
     "metadata": {},
     "output_type": "execute_result"
    }
   ],
   "source": [
    "# what is the percent of overall churn\n",
    "df[df.churn == \"Yes\"].shape[0] / df.shape[0]"
   ]
  },
  {
   "cell_type": "markdown",
   "id": "8309214d",
   "metadata": {},
   "source": [
    "#### 26.5% of their customers have churned"
   ]
  },
  {
   "cell_type": "code",
   "execution_count": 63,
   "id": "9e7210ca",
   "metadata": {},
   "outputs": [],
   "source": [
    "lost = df[df.churn == \"Yes\"]\n",
    "kept = df[df.churn == \"No\"]"
   ]
  },
  {
   "cell_type": "code",
   "execution_count": 64,
   "id": "2edbeaf5",
   "metadata": {},
   "outputs": [
    {
     "data": {
      "text/plain": [
       "17.96108563533476"
      ]
     },
     "execution_count": 64,
     "metadata": {},
     "output_type": "execute_result"
    }
   ],
   "source": [
    "# how quickly do folks churn, on average\n",
    "churn_tenure = lost.tenure.mean()\n",
    "churn_tenure"
   ]
  },
  {
   "cell_type": "code",
   "execution_count": 65,
   "id": "52ba66b3",
   "metadata": {},
   "outputs": [
    {
     "data": {
      "text/plain": [
       "37.586025552198315"
      ]
     },
     "execution_count": 65,
     "metadata": {},
     "output_type": "execute_result"
    }
   ],
   "source": [
    "# how does the tenure of non-churning customers compare\n",
    "non_churn_tenure = kept.tenure.mean()\n",
    "non_churn_tenure"
   ]
  },
  {
   "cell_type": "markdown",
   "id": "a1c7c01e",
   "metadata": {},
   "source": [
    "#### Customers churn, on average, in 17 months, while non-churners are around 37 months of service"
   ]
  },
  {
   "cell_type": "code",
   "execution_count": 66,
   "id": "752e3954",
   "metadata": {},
   "outputs": [
    {
     "data": {
      "text/plain": [
       "1270.6562548523746"
      ]
     },
     "execution_count": 66,
     "metadata": {},
     "output_type": "execute_result"
    }
   ],
   "source": [
    "# Cost of the loss of these customers\n",
    "loss_per_churn = (non_churn_tenure - churn_tenure) * df.monthly_charges.mean()\n",
    "loss_per_churn"
   ]
  },
  {
   "cell_type": "markdown",
   "id": "fa572caa",
   "metadata": {},
   "source": [
    "#### They are losing $1270 for each customer churning."
   ]
  },
  {
   "cell_type": "code",
   "execution_count": 67,
   "id": "459cc016",
   "metadata": {},
   "outputs": [
    {
     "data": {
      "text/plain": [
       "2376127.1965739406"
      ]
     },
     "execution_count": 67,
     "metadata": {},
     "output_type": "execute_result"
    }
   ],
   "source": [
    "total_churn_loss = loss_per_churn * lost.shape[0]\n",
    "total_churn_loss"
   ]
  },
  {
   "cell_type": "markdown",
   "id": "0d0d29e4",
   "metadata": {},
   "source": [
    "#### They lost almost $2.4M in revenue due to churn."
   ]
  },
  {
   "cell_type": "code",
   "execution_count": 40,
   "id": "e38921e0",
   "metadata": {},
   "outputs": [
    {
     "data": {
      "text/plain": [
       "<AxesSubplot:xlabel='churn', ylabel='monthly_charges'>"
      ]
     },
     "execution_count": 40,
     "metadata": {},
     "output_type": "execute_result"
    },
    {
     "data": {
      "image/png": "[encoded data removed]",
      "text/plain": [
       "<Figure size 432x288 with 1 Axes>"
      ]
     },
     "metadata": {
      "needs_background": "light"
     },
     "output_type": "display_data"
    }
   ],
   "source": [
    "lost.monthly_charges.mean(), kept.monthly_charges.mean()\n",
    "sns.barplot(x = 'churn', y = 'monthly_charges', data = df)"
   ]
  },
  {
   "cell_type": "markdown",
   "id": "0ce1dd7f",
   "metadata": {},
   "source": [
    "Churned customers are paying about 13 dollars more per month - lets see what that means in services"
   ]
  },
  {
   "cell_type": "code",
   "execution_count": 69,
   "id": "1b6a8737",
   "metadata": {},
   "outputs": [
    {
     "data": {
      "text/plain": [
       "<AxesSubplot:title={'center':'Current Customers'}>"
      ]
     },
     "execution_count": 69,
     "metadata": {},
     "output_type": "execute_result"
    },
    {
     "data": {
      "image/png": "[encoded data removed]",
      "text/plain": [
       "<Figure size 864x288 with 2 Axes>"
      ]
     },
     "metadata": {
      "needs_background": "light"
     },
     "output_type": "display_data"
    }
   ],
   "source": [
    "# After doing some pivot tables I noticed most churn is coming from combo customers (hence higher average cost) specifically those using fiber\n",
    "plt.figure(figsize = (12,4))\n",
    "\n",
    "plt.subplot(1,2,1, title = \"Churned\")\n",
    "lost.internet_service_details.hist()\n",
    "\n",
    "plt.subplot(1,2,2, title = \"Current Customers\")\n",
    "kept.internet_service_details.hist()"
   ]
  },
  {
   "cell_type": "code",
   "execution_count": 70,
   "id": "738e797f",
   "metadata": {},
   "outputs": [
    {
     "data": {
      "text/plain": [
       "churn  payment_type             \n",
       "No     Mailed check                 1304\n",
       "       Electronic check             1294\n",
       "       Credit card (automatic)      1292\n",
       "       Bank transfer (automatic)    1289\n",
       "Yes    Electronic check             1071\n",
       "       Mailed check                  308\n",
       "       Bank transfer (automatic)     259\n",
       "       Credit card (automatic)       232\n",
       "Name: payment_type, dtype: int64"
      ]
     },
     "execution_count": 70,
     "metadata": {},
     "output_type": "execute_result"
    }
   ],
   "source": [
    "df.groupby('churn').payment_type.value_counts()"
   ]
  },
  {
   "cell_type": "markdown",
   "id": "f86e506b",
   "metadata": {},
   "source": [
    "Electronic check seems to be an indicator of churn - almost half of those who use this method are churning, majority of churns are this method."
   ]
  },
  {
   "cell_type": "code",
   "execution_count": 72,
   "id": "780f612b",
   "metadata": {},
   "outputs": [
    {
     "data": {
      "text/html": [
       "<div>\n",
       "<style scoped>\n",
       "    .dataframe tbody tr th:only-of-type {\n",
       "        vertical-align: middle;\n",
       "    }\n",
       "\n",
       "    .dataframe tbody tr th {\n",
       "        vertical-align: top;\n",
       "    }\n",
       "\n",
       "    .dataframe thead th {\n",
       "        text-align: right;\n",
       "    }\n",
       "</style>\n",
       "<table border=\"1\" class=\"dataframe\">\n",
       "  <thead>\n",
       "    <tr style=\"text-align: right;\">\n",
       "      <th></th>\n",
       "      <th>churn</th>\n",
       "      <th>internet_service_details</th>\n",
       "      <th>payment_type</th>\n",
       "    </tr>\n",
       "  </thead>\n",
       "  <tbody>\n",
       "    <tr>\n",
       "      <th>0</th>\n",
       "      <td>No</td>\n",
       "      <td>DSL</td>\n",
       "      <td>Mailed check</td>\n",
       "    </tr>\n",
       "    <tr>\n",
       "      <th>1</th>\n",
       "      <td>No</td>\n",
       "      <td>DSL</td>\n",
       "      <td>Mailed check</td>\n",
       "    </tr>\n",
       "    <tr>\n",
       "      <th>2</th>\n",
       "      <td>Yes</td>\n",
       "      <td>Fiber Optic</td>\n",
       "      <td>Electronic check</td>\n",
       "    </tr>\n",
       "    <tr>\n",
       "      <th>3</th>\n",
       "      <td>Yes</td>\n",
       "      <td>Fiber Optic</td>\n",
       "      <td>Electronic check</td>\n",
       "    </tr>\n",
       "    <tr>\n",
       "      <th>4</th>\n",
       "      <td>Yes</td>\n",
       "      <td>Fiber Optic</td>\n",
       "      <td>Mailed check</td>\n",
       "    </tr>\n",
       "    <tr>\n",
       "      <th>...</th>\n",
       "      <td>...</td>\n",
       "      <td>...</td>\n",
       "      <td>...</td>\n",
       "    </tr>\n",
       "    <tr>\n",
       "      <th>7044</th>\n",
       "      <td>No</td>\n",
       "      <td>DSL</td>\n",
       "      <td>Mailed check</td>\n",
       "    </tr>\n",
       "    <tr>\n",
       "      <th>7045</th>\n",
       "      <td>Yes</td>\n",
       "      <td>Fiber Optic</td>\n",
       "      <td>Electronic check</td>\n",
       "    </tr>\n",
       "    <tr>\n",
       "      <th>7046</th>\n",
       "      <td>No</td>\n",
       "      <td>DSL</td>\n",
       "      <td>Mailed check</td>\n",
       "    </tr>\n",
       "    <tr>\n",
       "      <th>7047</th>\n",
       "      <td>No</td>\n",
       "      <td>DSL</td>\n",
       "      <td>Mailed check</td>\n",
       "    </tr>\n",
       "    <tr>\n",
       "      <th>7048</th>\n",
       "      <td>No</td>\n",
       "      <td>DSL</td>\n",
       "      <td>Electronic check</td>\n",
       "    </tr>\n",
       "  </tbody>\n",
       "</table>\n",
       "<p>7049 rows × 3 columns</p>\n",
       "</div>"
      ],
      "text/plain": [
       "     churn internet_service_details      payment_type\n",
       "0       No                      DSL      Mailed check\n",
       "1       No                      DSL      Mailed check\n",
       "2      Yes              Fiber Optic  Electronic check\n",
       "3      Yes              Fiber Optic  Electronic check\n",
       "4      Yes              Fiber Optic      Mailed check\n",
       "...    ...                      ...               ...\n",
       "7044    No                      DSL      Mailed check\n",
       "7045   Yes              Fiber Optic  Electronic check\n",
       "7046    No                      DSL      Mailed check\n",
       "7047    No                      DSL      Mailed check\n",
       "7048    No                      DSL  Electronic check\n",
       "\n",
       "[7049 rows x 3 columns]"
      ]
     },
     "execution_count": 72,
     "metadata": {},
     "output_type": "execute_result"
    }
   ],
   "source": [
    "sample1 = df[['churn','internet_service_details','payment_type']]"
   ]
  },
  {
   "cell_type": "code",
   "execution_count": null,
   "id": "4197d962",
   "metadata": {},
   "outputs": [],
   "source": [
    "# Ryan, check to see what churn is when you remove electronic checks and if that is in line with normalcy\n",
    "# Also, check what the main drivers are of 1 month and leave vs sticking around.  If someone stays more than one month how long do they typically stay?"
   ]
  },
  {
   "cell_type": "code",
   "execution_count": 90,
   "id": "91f791c0",
   "metadata": {},
   "outputs": [],
   "source": [
    "short_churned = df[(df.full_months_tenure<=1) & (df.churn == \"Yes\")]"
   ]
  },
  {
   "cell_type": "code",
   "execution_count": 91,
   "id": "42813de6",
   "metadata": {},
   "outputs": [
    {
     "data": {
      "text/plain": [
       "Phone & Internet    335\n",
       "Phone Only           64\n",
       "Internet Only        50\n",
       "Name: service_combination, dtype: int64"
      ]
     },
     "execution_count": 91,
     "metadata": {},
     "output_type": "execute_result"
    }
   ],
   "source": [
    "short_churned.service_combination.value_counts()"
   ]
  },
  {
   "cell_type": "code",
   "execution_count": 93,
   "id": "80fc324e",
   "metadata": {},
   "outputs": [
    {
     "data": {
      "text/plain": [
       "Phone & Internet    146\n",
       "Phone Only          135\n",
       "Internet Only        26\n",
       "Name: service_combination, dtype: int64"
      ]
     },
     "execution_count": 93,
     "metadata": {},
     "output_type": "execute_result"
    }
   ],
   "source": [
    "short_stayed = df[(df.full_months_tenure<=1) & (df.churn == \"No\")]\n",
    "short_stayed.service_combination.value_counts()"
   ]
  },
  {
   "cell_type": "code",
   "execution_count": 87,
   "id": "eb87dfdd",
   "metadata": {},
   "outputs": [
    {
     "data": {
      "text/plain": [
       "(0.6964656964656964, 0.32160804020100503, 0.6578947368421053)"
      ]
     },
     "execution_count": 87,
     "metadata": {},
     "output_type": "execute_result"
    }
   ],
   "source": [
    "335/(335+146), 64/(64+135), 50/(50+26)"
   ]
  },
  {
   "cell_type": "code",
   "execution_count": 94,
   "id": "b7cb0802",
   "metadata": {},
   "outputs": [
    {
     "data": {
      "text/plain": [
       "Fiber Optic            240\n",
       "DSL                    145\n",
       "No Internet Service     64\n",
       "Name: internet_service_details, dtype: int64"
      ]
     },
     "execution_count": 94,
     "metadata": {},
     "output_type": "execute_result"
    }
   ],
   "source": [
    "short_churned.internet_service_details.value_counts()"
   ]
  },
  {
   "cell_type": "code",
   "execution_count": 95,
   "id": "45311f8a",
   "metadata": {},
   "outputs": [
    {
     "data": {
      "text/plain": [
       "No Internet Service    135\n",
       "DSL                    119\n",
       "Fiber Optic             53\n",
       "Name: internet_service_details, dtype: int64"
      ]
     },
     "execution_count": 95,
     "metadata": {},
     "output_type": "execute_result"
    }
   ],
   "source": [
    "short_stayed.internet_service_details.value_counts()"
   ]
  },
  {
   "cell_type": "code",
   "execution_count": 98,
   "id": "ac0bde2b",
   "metadata": {},
   "outputs": [
    {
     "data": {
      "text/plain": [
       "(0.8191126279863481, 0.5492424242424242, 0.32160804020100503)"
      ]
     },
     "execution_count": 98,
     "metadata": {},
     "output_type": "execute_result"
    }
   ],
   "source": [
    "240/(240+53), 145/(145+119), 64/(64+135)"
   ]
  },
  {
   "cell_type": "markdown",
   "id": "a05229f6",
   "metadata": {},
   "source": [
    "Most people who churn within one month are internet users, specifically those with fiber."
   ]
  },
  {
   "cell_type": "code",
   "execution_count": 102,
   "id": "52bb485a",
   "metadata": {},
   "outputs": [
    {
     "data": {
      "text/plain": [
       "<AxesSubplot:xlabel='churn', ylabel='full_months_tenure'>"
      ]
     },
     "execution_count": 102,
     "metadata": {},
     "output_type": "execute_result"
    },
    {
     "data": {
      "image/png": "[encoded data removed]",
      "text/plain": [
       "<Figure size 432x288 with 1 Axes>"
      ]
     },
     "metadata": {
      "needs_background": "light"
     },
     "output_type": "display_data"
    }
   ],
   "source": [
    "sns.boxplot(x = \"churn\", y = \"full_months_tenure\", hue = \"internet_service_details\", data = df)"
   ]
  }
 ],
 "metadata": {
  "kernelspec": {
   "display_name": "Python 3 (ipykernel)",
   "language": "python",
   "name": "python3"
  },
  "language_info": {
   "codemirror_mode": {
    "name": "ipython",
    "version": 3
   },
   "file_extension": ".py",
   "mimetype": "text/x-python",
   "name": "python",
   "nbconvert_exporter": "python",
   "pygments_lexer": "ipython3",
   "version": "3.9.7"
  }
 },
 "nbformat": 4,
 "nbformat_minor": 5
}
