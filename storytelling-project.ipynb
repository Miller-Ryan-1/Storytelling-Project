{
 "cells": [
  {
   "cell_type": "code",
   "execution_count": 107,
   "id": "2c450d81",
   "metadata": {},
   "outputs": [],
   "source": [
    "import pandas as pd\n",
    "import numpy as np\n",
    "import matplotlib.pyplot as plt\n",
    "import seaborn as sns"
   ]
  },
  {
   "cell_type": "markdown",
   "id": "8e413879",
   "metadata": {},
   "source": [
    "## Part I : Goal, purpose, target (variable)and initial hypothesis\n",
    "#### Goal - Reduce churn.\n",
    "#### Purpose - Prevent revenue lost due to customers leaving (who are then typically harder/costlier to get back).  Could also indicate service delivery issues we aren't aware of.\n",
    "#### Target - Churn\n",
    "#### Constraints - Cannot remove month-to-month service plan\n",
    "#### Initial hypotheses:"
   ]
  },
  {
   "cell_type": "markdown",
   "id": "4d70c7b0",
   "metadata": {},
   "source": [
    "- Churn is having a negative effect on revenue (seems obvious but needs to be qualified and quantified).\n",
    "- Having to pay by check each month makes customers more prone to churn (extra work)\n",
    "- Having multiple services makes customers less likely to churn\n",
    "- Type of internet services may have an impact (one may be slower or costlier)\n",
    "- Larger familes (i.e. dependants & partners) may impact churn - could adjust business plans to accomodate\n",
    "- Number of phone lines may impact churn - more phone lines are probably lower churn."
   ]
  },
  {
   "cell_type": "markdown",
   "id": "f57012ae",
   "metadata": {},
   "source": [
    "### The plan:\n",
    "\n",
    "#### High level data analysis\n",
    "1. Determine if the target variable (churn) is happening, and if so, how much?  (i.e., Is there a problem?)\n",
    "2. What is the magnitude of churn's effect on overall revenue? (How big is the problem?)\n",
    "#### Deeper modeling and hypothesis testing\n",
    "3. What other variables are correlated with this varible?  Is it causation?  How do they change through time (i.e. examine both bulk/aggregate and temporal realtionships between variables and churn.  (Why did this happen?)\n",
    "4. What would the positive impact on revenue by removing the impact of certain variables?  What is my recommendation to get there?  Anything else I would want to know?"
   ]
  },
  {
   "cell_type": "markdown",
   "id": "f036f43c",
   "metadata": {},
   "source": [
    "## Part II: High Level Data Analysis"
   ]
  },
  {
   "cell_type": "code",
   "execution_count": 108,
   "id": "6a10eef4",
   "metadata": {},
   "outputs": [
    {
     "name": "stdout",
     "output_type": "stream",
     "text": [
      "<class 'pandas.core.frame.DataFrame'>\n",
      "RangeIndex: 7049 entries, 0 to 7048\n",
      "Data columns (total 19 columns):\n",
      " #   Column                     Non-Null Count  Dtype  \n",
      "---  ------                     --------------  -----  \n",
      " 0   customer_id                7049 non-null   object \n",
      " 1   gender                     7049 non-null   object \n",
      " 2   is_senior_bool             7049 non-null   int64  \n",
      " 3   is_senior                  7049 non-null   object \n",
      " 4   payment_type               7049 non-null   object \n",
      " 5   monthly_charges            7049 non-null   float64\n",
      " 6   total_charges              7038 non-null   float64\n",
      " 7   churn                      7049 non-null   object \n",
      " 8   tenure                     7049 non-null   float64\n",
      " 9   is_female_bool             7049 non-null   int64  \n",
      " 10  has_churned_bool           7049 non-null   int64  \n",
      " 11  has_phone_bool             7049 non-null   int64  \n",
      " 12  has_internet_bool          7049 non-null   int64  \n",
      " 13  contract_details           7049 non-null   object \n",
      " 14  phone_service_details      7049 non-null   object \n",
      " 15  internet_service_details   7049 non-null   object \n",
      " 16  service_combination        7049 non-null   object \n",
      " 17  partner_dependants_status  7049 non-null   object \n",
      " 18  full_months_tenure         7049 non-null   int64  \n",
      "dtypes: float64(3), int64(6), object(10)\n",
      "memory usage: 1.0+ MB\n"
     ]
    }
   ],
   "source": [
    "df = pd.read_csv('storytelling_project_data.csv')\n",
    "df.info()"
   ]
  },
  {
   "cell_type": "markdown",
   "id": "d7b9b825",
   "metadata": {},
   "source": [
    "#### General Description"
   ]
  },
  {
   "cell_type": "code",
   "execution_count": 142,
   "id": "27b38443",
   "metadata": {},
   "outputs": [
    {
     "data": {
      "text/html": [
       "<div>\n",
       "<style scoped>\n",
       "    .dataframe tbody tr th:only-of-type {\n",
       "        vertical-align: middle;\n",
       "    }\n",
       "\n",
       "    .dataframe tbody tr th {\n",
       "        vertical-align: top;\n",
       "    }\n",
       "\n",
       "    .dataframe thead th {\n",
       "        text-align: right;\n",
       "    }\n",
       "</style>\n",
       "<table border=\"1\" class=\"dataframe\">\n",
       "  <thead>\n",
       "    <tr style=\"text-align: right;\">\n",
       "      <th></th>\n",
       "      <th>0</th>\n",
       "      <th>1</th>\n",
       "      <th>2</th>\n",
       "      <th>3</th>\n",
       "      <th>4</th>\n",
       "    </tr>\n",
       "  </thead>\n",
       "  <tbody>\n",
       "    <tr>\n",
       "      <th>customer_id</th>\n",
       "      <td>0002-ORFBO</td>\n",
       "      <td>0003-MKNFE</td>\n",
       "      <td>0004-TLHLJ</td>\n",
       "      <td>0011-IGKFF</td>\n",
       "      <td>0013-EXCHZ</td>\n",
       "    </tr>\n",
       "    <tr>\n",
       "      <th>gender</th>\n",
       "      <td>Female</td>\n",
       "      <td>Male</td>\n",
       "      <td>Male</td>\n",
       "      <td>Male</td>\n",
       "      <td>Female</td>\n",
       "    </tr>\n",
       "    <tr>\n",
       "      <th>is_senior_bool</th>\n",
       "      <td>0</td>\n",
       "      <td>0</td>\n",
       "      <td>0</td>\n",
       "      <td>1</td>\n",
       "      <td>1</td>\n",
       "    </tr>\n",
       "    <tr>\n",
       "      <th>is_senior</th>\n",
       "      <td>Non-Senior Citizen</td>\n",
       "      <td>Non-Senior Citizen</td>\n",
       "      <td>Non-Senior Citizen</td>\n",
       "      <td>Senior Citizen</td>\n",
       "      <td>Senior Citizen</td>\n",
       "    </tr>\n",
       "    <tr>\n",
       "      <th>payment_type</th>\n",
       "      <td>Mailed check</td>\n",
       "      <td>Mailed check</td>\n",
       "      <td>Electronic check</td>\n",
       "      <td>Electronic check</td>\n",
       "      <td>Mailed check</td>\n",
       "    </tr>\n",
       "    <tr>\n",
       "      <th>monthly_charges</th>\n",
       "      <td>65.6</td>\n",
       "      <td>59.9</td>\n",
       "      <td>73.9</td>\n",
       "      <td>98.0</td>\n",
       "      <td>83.9</td>\n",
       "    </tr>\n",
       "    <tr>\n",
       "      <th>total_charges</th>\n",
       "      <td>593.3</td>\n",
       "      <td>542.4</td>\n",
       "      <td>280.85</td>\n",
       "      <td>1237.85</td>\n",
       "      <td>267.4</td>\n",
       "    </tr>\n",
       "    <tr>\n",
       "      <th>churn</th>\n",
       "      <td>No</td>\n",
       "      <td>No</td>\n",
       "      <td>Yes</td>\n",
       "      <td>Yes</td>\n",
       "      <td>Yes</td>\n",
       "    </tr>\n",
       "    <tr>\n",
       "      <th>tenure</th>\n",
       "      <td>9.0</td>\n",
       "      <td>9.1</td>\n",
       "      <td>3.8</td>\n",
       "      <td>12.6</td>\n",
       "      <td>3.2</td>\n",
       "    </tr>\n",
       "    <tr>\n",
       "      <th>is_female_bool</th>\n",
       "      <td>1</td>\n",
       "      <td>0</td>\n",
       "      <td>0</td>\n",
       "      <td>0</td>\n",
       "      <td>1</td>\n",
       "    </tr>\n",
       "    <tr>\n",
       "      <th>has_churned_bool</th>\n",
       "      <td>0</td>\n",
       "      <td>0</td>\n",
       "      <td>1</td>\n",
       "      <td>1</td>\n",
       "      <td>1</td>\n",
       "    </tr>\n",
       "    <tr>\n",
       "      <th>has_phone_bool</th>\n",
       "      <td>1</td>\n",
       "      <td>1</td>\n",
       "      <td>1</td>\n",
       "      <td>1</td>\n",
       "      <td>1</td>\n",
       "    </tr>\n",
       "    <tr>\n",
       "      <th>has_internet_bool</th>\n",
       "      <td>1</td>\n",
       "      <td>1</td>\n",
       "      <td>1</td>\n",
       "      <td>1</td>\n",
       "      <td>1</td>\n",
       "    </tr>\n",
       "    <tr>\n",
       "      <th>contract_details</th>\n",
       "      <td>1 Year</td>\n",
       "      <td>Month-to-Month</td>\n",
       "      <td>Month-to-Month</td>\n",
       "      <td>Month-to-Month</td>\n",
       "      <td>Month-to-Month</td>\n",
       "    </tr>\n",
       "    <tr>\n",
       "      <th>phone_service_details</th>\n",
       "      <td>One Line</td>\n",
       "      <td>Two or More Lines</td>\n",
       "      <td>One Line</td>\n",
       "      <td>One Line</td>\n",
       "      <td>One Line</td>\n",
       "    </tr>\n",
       "    <tr>\n",
       "      <th>internet_service_details</th>\n",
       "      <td>DSL</td>\n",
       "      <td>DSL</td>\n",
       "      <td>Fiber Optic</td>\n",
       "      <td>Fiber Optic</td>\n",
       "      <td>Fiber Optic</td>\n",
       "    </tr>\n",
       "    <tr>\n",
       "      <th>service_combination</th>\n",
       "      <td>Phone &amp; Internet</td>\n",
       "      <td>Phone &amp; Internet</td>\n",
       "      <td>Phone &amp; Internet</td>\n",
       "      <td>Phone &amp; Internet</td>\n",
       "      <td>Phone &amp; Internet</td>\n",
       "    </tr>\n",
       "    <tr>\n",
       "      <th>partner_dependants_status</th>\n",
       "      <td>Partner &amp; Dependants</td>\n",
       "      <td>Lives Alone</td>\n",
       "      <td>Lives Alone</td>\n",
       "      <td>Partner Only</td>\n",
       "      <td>Partner Only</td>\n",
       "    </tr>\n",
       "    <tr>\n",
       "      <th>full_months_tenure</th>\n",
       "      <td>9</td>\n",
       "      <td>9</td>\n",
       "      <td>3</td>\n",
       "      <td>12</td>\n",
       "      <td>3</td>\n",
       "    </tr>\n",
       "  </tbody>\n",
       "</table>\n",
       "</div>"
      ],
      "text/plain": [
       "                                              0                   1  \\\n",
       "customer_id                          0002-ORFBO          0003-MKNFE   \n",
       "gender                                   Female                Male   \n",
       "is_senior_bool                                0                   0   \n",
       "is_senior                    Non-Senior Citizen  Non-Senior Citizen   \n",
       "payment_type                       Mailed check        Mailed check   \n",
       "monthly_charges                            65.6                59.9   \n",
       "total_charges                             593.3               542.4   \n",
       "churn                                        No                  No   \n",
       "tenure                                      9.0                 9.1   \n",
       "is_female_bool                                1                   0   \n",
       "has_churned_bool                              0                   0   \n",
       "has_phone_bool                                1                   1   \n",
       "has_internet_bool                             1                   1   \n",
       "contract_details                         1 Year      Month-to-Month   \n",
       "phone_service_details                  One Line   Two or More Lines   \n",
       "internet_service_details                    DSL                 DSL   \n",
       "service_combination            Phone & Internet    Phone & Internet   \n",
       "partner_dependants_status  Partner & Dependants         Lives Alone   \n",
       "full_months_tenure                            9                   9   \n",
       "\n",
       "                                            2                 3  \\\n",
       "customer_id                        0004-TLHLJ        0011-IGKFF   \n",
       "gender                                   Male              Male   \n",
       "is_senior_bool                              0                 1   \n",
       "is_senior                  Non-Senior Citizen    Senior Citizen   \n",
       "payment_type                 Electronic check  Electronic check   \n",
       "monthly_charges                          73.9              98.0   \n",
       "total_charges                          280.85           1237.85   \n",
       "churn                                     Yes               Yes   \n",
       "tenure                                    3.8              12.6   \n",
       "is_female_bool                              0                 0   \n",
       "has_churned_bool                            1                 1   \n",
       "has_phone_bool                              1                 1   \n",
       "has_internet_bool                           1                 1   \n",
       "contract_details               Month-to-Month    Month-to-Month   \n",
       "phone_service_details                One Line          One Line   \n",
       "internet_service_details          Fiber Optic       Fiber Optic   \n",
       "service_combination          Phone & Internet  Phone & Internet   \n",
       "partner_dependants_status         Lives Alone      Partner Only   \n",
       "full_months_tenure                          3                12   \n",
       "\n",
       "                                          4  \n",
       "customer_id                      0013-EXCHZ  \n",
       "gender                               Female  \n",
       "is_senior_bool                            1  \n",
       "is_senior                    Senior Citizen  \n",
       "payment_type                   Mailed check  \n",
       "monthly_charges                        83.9  \n",
       "total_charges                         267.4  \n",
       "churn                                   Yes  \n",
       "tenure                                  3.2  \n",
       "is_female_bool                            1  \n",
       "has_churned_bool                          1  \n",
       "has_phone_bool                            1  \n",
       "has_internet_bool                         1  \n",
       "contract_details             Month-to-Month  \n",
       "phone_service_details              One Line  \n",
       "internet_service_details        Fiber Optic  \n",
       "service_combination        Phone & Internet  \n",
       "partner_dependants_status      Partner Only  \n",
       "full_months_tenure                        3  "
      ]
     },
     "execution_count": 142,
     "metadata": {},
     "output_type": "execute_result"
    }
   ],
   "source": [
    "df.head(5).T"
   ]
  },
  {
   "cell_type": "markdown",
   "id": "6ac1ceff",
   "metadata": {},
   "source": [
    "### Question 1 - Is Churn happening?  What is its relative magnitude?"
   ]
  },
  {
   "cell_type": "code",
   "execution_count": 131,
   "id": "51064079",
   "metadata": {},
   "outputs": [
    {
     "data": {
      "text/plain": [
       "<AxesSubplot:>"
      ]
     },
     "execution_count": 131,
     "metadata": {},
     "output_type": "execute_result"
    },
    {
     "data": {
      "image/png": "[encoded data removed]",
      "text/plain": [
       "<Figure size 432x288 with 1 Axes>"
      ]
     },
     "metadata": {
      "needs_background": "light"
     },
     "output_type": "display_data"
    }
   ],
   "source": [
    "df.churn.hist()"
   ]
  },
  {
   "cell_type": "code",
   "execution_count": 136,
   "id": "eafe42dd",
   "metadata": {},
   "outputs": [
    {
     "data": {
      "text/plain": [
       "full_months_tenure\n",
       "0     0.000000\n",
       "1     0.602685\n",
       "2     0.473430\n",
       "3     0.483871\n",
       "4     0.475904\n",
       "        ...   \n",
       "74    0.040000\n",
       "75    0.000000\n",
       "76    0.000000\n",
       "77    0.000000\n",
       "79    0.000000\n",
       "Name: has_churned_bool, Length: 79, dtype: float64"
      ]
     },
     "execution_count": 136,
     "metadata": {},
     "output_type": "execute_result"
    }
   ],
   "source": [
    "tenure_series = df.groupby('full_months_tenure').has_churned_bool.mean()\n",
    "tenure_series"
   ]
  },
  {
   "cell_type": "code",
   "execution_count": 148,
   "id": "64a0de1a",
   "metadata": {
    "scrolled": true
   },
   "outputs": [
    {
     "data": {
      "text/plain": [
       "<seaborn.axisgrid.FacetGrid at 0x7fbe32f64e50>"
      ]
     },
     "execution_count": 148,
     "metadata": {},
     "output_type": "execute_result"
    },
    {
     "data": {
      "image/png": "[encoded data removed]",
      "text/plain": [
       "<Figure size 360x360 with 1 Axes>"
      ]
     },
     "metadata": {
      "needs_background": "light"
     },
     "output_type": "display_data"
    }
   ],
   "source": [
    "sns.relplot(data = tenure_series, x = tenure_series.index, y = tenure_series.values)"
   ]
  },
  {
   "cell_type": "code",
   "execution_count": 111,
   "id": "85941d95",
   "metadata": {},
   "outputs": [],
   "source": [
    "lost = df[df.churn == \"Yes\"]\n",
    "kept = df[df.churn == \"No\"]"
   ]
  },
  {
   "cell_type": "code",
   "execution_count": 133,
   "id": "ee5317d0",
   "metadata": {},
   "outputs": [
    {
     "data": {
      "text/plain": [
       "0.2652858561498085"
      ]
     },
     "execution_count": 133,
     "metadata": {},
     "output_type": "execute_result"
    }
   ],
   "source": [
    "# what is the percent of overall churn\n",
    "lost.shape[0] / df.shape[0]"
   ]
  },
  {
   "cell_type": "markdown",
   "id": "02bccd5e",
   "metadata": {},
   "source": [
    "#### 26.5% of their customers have churned"
   ]
  },
  {
   "cell_type": "markdown",
   "id": "cd25dd93",
   "metadata": {},
   "source": [
    "However, this number indicates overall churn, but not necessarily monthly churn, especailly if the churn was frontloaded (which we will investigate shortly).  **Using a 12 month running average of churn, the average monthly churn is 17.6%**.  Which while better is still much higher than the industry standard goal of 21% per year, or -"
   ]
  },
  {
   "cell_type": "code",
   "execution_count": 145,
   "id": "fe542818",
   "metadata": {},
   "outputs": [
    {
     "data": {
      "text/plain": [
       "0.017499999999999998"
      ]
     },
     "execution_count": 145,
     "metadata": {},
     "output_type": "execute_result"
    }
   ],
   "source": [
    ".21/12"
   ]
  },
  {
   "cell_type": "markdown",
   "id": "fb7a31a7",
   "metadata": {},
   "source": [
    "1.75% per month."
   ]
  },
  {
   "cell_type": "markdown",
   "id": "377bcf97",
   "metadata": {},
   "source": [
    "#### Thus, churn is an issue for this company."
   ]
  },
  {
   "cell_type": "markdown",
   "id": "ff213c5c",
   "metadata": {},
   "source": [
    "### Question 2 - What is the impact of the churn on revenue (aka magnitude of the problem)?"
   ]
  },
  {
   "cell_type": "markdown",
   "id": "800e6cc6",
   "metadata": {},
   "source": [
    "To do this, I will take the difference between the average tenure of when a customer churns, and compare it to the average tneure of am active customer.  That will give me the impact in lost months of revenue per churned customer.  To get the fianncial impact, we multiple these collectiv lost months by the average monthly revenue of a customer to get a ballpack estimate of the loss."
   ]
  },
  {
   "cell_type": "code",
   "execution_count": 132,
   "id": "4ac7abe7",
   "metadata": {},
   "outputs": [
    {
     "data": {
      "text/plain": [
       "32.37980656446458"
      ]
     },
     "execution_count": 132,
     "metadata": {},
     "output_type": "execute_result"
    }
   ],
   "source": [
    "# what is the average tenure of a customer\n",
    "df.tenure.mean()"
   ]
  },
  {
   "cell_type": "code",
   "execution_count": 64,
   "id": "f617c721",
   "metadata": {},
   "outputs": [
    {
     "data": {
      "text/plain": [
       "17.96108563533476"
      ]
     },
     "execution_count": 64,
     "metadata": {},
     "output_type": "execute_result"
    }
   ],
   "source": [
    "# how quickly do folks churn, on average, in months\n",
    "churn_tenure = lost.tenure.mean()\n",
    "churn_tenure"
   ]
  },
  {
   "cell_type": "code",
   "execution_count": 65,
   "id": "e38ddf94",
   "metadata": {},
   "outputs": [
    {
     "data": {
      "text/plain": [
       "37.586025552198315"
      ]
     },
     "execution_count": 65,
     "metadata": {},
     "output_type": "execute_result"
    }
   ],
   "source": [
    "# how does the tenure of non-churning customers compare\n",
    "non_churn_tenure = kept.tenure.mean()\n",
    "non_churn_tenure"
   ]
  },
  {
   "cell_type": "markdown",
   "id": "7e08cf8f",
   "metadata": {},
   "source": [
    "#### Customers churn, on average, in 18 months, while non-churners are around 38 months of service"
   ]
  },
  {
   "cell_type": "code",
   "execution_count": 66,
   "id": "9ae8a090",
   "metadata": {},
   "outputs": [
    {
     "data": {
      "text/plain": [
       "1270.6562548523746"
      ]
     },
     "execution_count": 66,
     "metadata": {},
     "output_type": "execute_result"
    }
   ],
   "source": [
    "# Cost of the loss of these customers\n",
    "loss_per_churn = (non_churn_tenure - churn_tenure) * df.monthly_charges.mean()\n",
    "loss_per_churn"
   ]
  },
  {
   "cell_type": "markdown",
   "id": "25e7a402",
   "metadata": {},
   "source": [
    "#### They are losing $1270 for each customer churning."
   ]
  },
  {
   "cell_type": "code",
   "execution_count": 67,
   "id": "dc2c8d00",
   "metadata": {},
   "outputs": [
    {
     "data": {
      "text/plain": [
       "2376127.1965739406"
      ]
     },
     "execution_count": 67,
     "metadata": {},
     "output_type": "execute_result"
    }
   ],
   "source": [
    "total_churn_loss = loss_per_churn * lost.shape[0]\n",
    "total_churn_loss"
   ]
  },
  {
   "cell_type": "markdown",
   "id": "f0bec55e",
   "metadata": {},
   "source": [
    "#### They lost almost $2.4M in revenue due to churn."
   ]
  },
  {
   "cell_type": "markdown",
   "id": "fd881861",
   "metadata": {},
   "source": [
    "## Part III: Deeper Modeling and Hypothesis Testing"
   ]
  },
  {
   "cell_type": "markdown",
   "id": "c69fd89c",
   "metadata": {},
   "source": [
    "#### Question 3 - What is causing the churn?"
   ]
  },
  {
   "cell_type": "markdown",
   "id": "48a2b24e",
   "metadata": {},
   "source": [
    "Note: While I discuss a number of hypothesis above, and investigated most, I will cut to the chase and talk about how I got to the most impactful variables.\n",
    "\n",
    "First, are churning customers paying more than non-churning customers?"
   ]
  },
  {
   "cell_type": "code",
   "execution_count": 40,
   "id": "78f86cbf",
   "metadata": {},
   "outputs": [
    {
     "data": {
      "text/plain": [
       "<AxesSubplot:xlabel='churn', ylabel='monthly_charges'>"
      ]
     },
     "execution_count": 40,
     "metadata": {},
     "output_type": "execute_result"
    },
    {
     "data": {
      "image/png": "[encoded data removed]",
      "text/plain": [
       "<Figure size 432x288 with 1 Axes>"
      ]
     },
     "metadata": {
      "needs_background": "light"
     },
     "output_type": "display_data"
    }
   ],
   "source": [
    "lost.monthly_charges.mean(), kept.monthly_charges.mean()\n",
    "sns.barplot(x = 'churn', y = 'monthly_charges', data = df)"
   ]
  },
  {
   "cell_type": "markdown",
   "id": "c344d6dc",
   "metadata": {},
   "source": [
    "#### Churned customers are paying about 13 dollars more per month - lets see what that means in services"
   ]
  },
  {
   "cell_type": "code",
   "execution_count": 69,
   "id": "e39fcd9e",
   "metadata": {},
   "outputs": [
    {
     "data": {
      "text/plain": [
       "<AxesSubplot:title={'center':'Current Customers'}>"
      ]
     },
     "execution_count": 69,
     "metadata": {},
     "output_type": "execute_result"
    },
    {
     "data": {
      "image/png": "[encoded data removed]",
      "text/plain": [
       "<Figure size 864x288 with 2 Axes>"
      ]
     },
     "metadata": {
      "needs_background": "light"
     },
     "output_type": "display_data"
    }
   ],
   "source": [
    "# After doing some pivot tables I noticed most churn is coming from combo customers (hence higher average cost) specifically those using fiber\n",
    "plt.figure(figsize = (12,4))\n",
    "\n",
    "plt.subplot(1,2,1, title = \"Churned\")\n",
    "lost.internet_service_details.hist()\n",
    "\n",
    "plt.subplot(1,2,2, title = \"Current Customers\")\n",
    "kept.internet_service_details.hist()"
   ]
  },
  {
   "cell_type": "code",
   "execution_count": 149,
   "id": "41997545",
   "metadata": {},
   "outputs": [
    {
     "data": {
      "text/plain": [
       "churn  payment_type             \n",
       "No     Mailed check                 1304\n",
       "       Electronic check             1294\n",
       "       Credit card (automatic)      1292\n",
       "       Bank transfer (automatic)    1289\n",
       "Yes    Electronic check             1071\n",
       "       Mailed check                  308\n",
       "       Bank transfer (automatic)     259\n",
       "       Credit card (automatic)       232\n",
       "Name: payment_type, dtype: int64"
      ]
     },
     "execution_count": 149,
     "metadata": {},
     "output_type": "execute_result"
    }
   ],
   "source": [
    "df.groupby('churn').payment_type.value_counts()"
   ]
  },
  {
   "cell_type": "markdown",
   "id": "f277f05a",
   "metadata": {},
   "source": [
    "Having Fiber Optic serice and paying by electronic check seems to be the biggest driver of churn - almost half of those who use this method are churning, majority of churns are this method.\n",
    "\n",
    "Interestingly enough, using Tableau and comparing the average monthly cost between the different services and payment methods, the churned customers are not paying more.\n",
    "\n",
    "Using Tableau, I was able to compare a number of variables against churn, both temporally and in bulk, to see which had the greatest effect on increasing churn.\n",
    "\n",
    "From a temporal perspective, most churn happens in the first months of service.\n",
    "\n",
    "From a bulk perspective, most churn is for Fiber customers who pay with electronic check.  The varaibles all seem to move with the same temporal trend as well, meaning they are highly independant.\n",
    "\n",
    "For some additional analysis of short-term churners:"
   ]
  },
  {
   "cell_type": "code",
   "execution_count": 152,
   "id": "41f92c88",
   "metadata": {},
   "outputs": [],
   "source": [
    "sample1 = df[['churn','internet_service_details','payment_type']]"
   ]
  },
  {
   "cell_type": "code",
   "execution_count": 153,
   "id": "4294f356",
   "metadata": {},
   "outputs": [],
   "source": [
    "short_churned = df[(df.full_months_tenure<=1) & (df.churn == \"Yes\")]"
   ]
  },
  {
   "cell_type": "code",
   "execution_count": 154,
   "id": "67bc736e",
   "metadata": {},
   "outputs": [
    {
     "data": {
      "text/plain": [
       "Phone & Internet    335\n",
       "Phone Only           64\n",
       "Internet Only        50\n",
       "Name: service_combination, dtype: int64"
      ]
     },
     "execution_count": 154,
     "metadata": {},
     "output_type": "execute_result"
    }
   ],
   "source": [
    "short_churned.service_combination.value_counts()"
   ]
  },
  {
   "cell_type": "code",
   "execution_count": 155,
   "id": "f677151f",
   "metadata": {},
   "outputs": [
    {
     "data": {
      "text/plain": [
       "Phone & Internet    146\n",
       "Phone Only          135\n",
       "Internet Only        26\n",
       "Name: service_combination, dtype: int64"
      ]
     },
     "execution_count": 155,
     "metadata": {},
     "output_type": "execute_result"
    }
   ],
   "source": [
    "short_stayed = df[(df.full_months_tenure<=1) & (df.churn == \"No\")]\n",
    "short_stayed.service_combination.value_counts()"
   ]
  },
  {
   "cell_type": "code",
   "execution_count": 156,
   "id": "63f9ab54",
   "metadata": {},
   "outputs": [
    {
     "data": {
      "text/plain": [
       "(0.6964656964656964, 0.32160804020100503, 0.6578947368421053)"
      ]
     },
     "execution_count": 156,
     "metadata": {},
     "output_type": "execute_result"
    }
   ],
   "source": [
    "335/(335+146), 64/(64+135), 50/(50+26)"
   ]
  },
  {
   "cell_type": "markdown",
   "id": "b5931854",
   "metadata": {},
   "source": [
    "Thus 70% of Phone and Internet, 32% of Phone only, and 66% Internet only churned in the first month."
   ]
  },
  {
   "cell_type": "code",
   "execution_count": 157,
   "id": "008d929c",
   "metadata": {},
   "outputs": [
    {
     "data": {
      "text/plain": [
       "Fiber Optic            240\n",
       "DSL                    145\n",
       "No Internet Service     64\n",
       "Name: internet_service_details, dtype: int64"
      ]
     },
     "execution_count": 157,
     "metadata": {},
     "output_type": "execute_result"
    }
   ],
   "source": [
    "short_churned.internet_service_details.value_counts()"
   ]
  },
  {
   "cell_type": "code",
   "execution_count": 158,
   "id": "cf02ace4",
   "metadata": {},
   "outputs": [
    {
     "data": {
      "text/plain": [
       "No Internet Service    135\n",
       "DSL                    119\n",
       "Fiber Optic             53\n",
       "Name: internet_service_details, dtype: int64"
      ]
     },
     "execution_count": 158,
     "metadata": {},
     "output_type": "execute_result"
    }
   ],
   "source": [
    "short_stayed.internet_service_details.value_counts()"
   ]
  },
  {
   "cell_type": "code",
   "execution_count": 159,
   "id": "7c2c4684",
   "metadata": {},
   "outputs": [
    {
     "data": {
      "text/plain": [
       "(0.8191126279863481, 0.5492424242424242, 0.32160804020100503)"
      ]
     },
     "execution_count": 159,
     "metadata": {},
     "output_type": "execute_result"
    }
   ],
   "source": [
    "240/(240+53), 145/(145+119), 64/(64+135)"
   ]
  },
  {
   "cell_type": "markdown",
   "id": "9b0a8a6a",
   "metadata": {},
   "source": [
    "Drilling deeper into the internet serice details, even more dramatic is the first month Fiber optic customers where 82% are churning!  55% of DSL (also very high) and 32% with no internet service."
   ]
  },
  {
   "cell_type": "markdown",
   "id": "8f806049",
   "metadata": {},
   "source": [
    "#### Most people who churn within one month are internet users, specifically those with fiber."
   ]
  },
  {
   "cell_type": "code",
   "execution_count": 160,
   "id": "3030dd76",
   "metadata": {},
   "outputs": [
    {
     "data": {
      "text/plain": [
       "<AxesSubplot:xlabel='churn', ylabel='full_months_tenure'>"
      ]
     },
     "execution_count": 160,
     "metadata": {},
     "output_type": "execute_result"
    },
    {
     "data": {
      "image/png": "[encoded data removed]",
      "text/plain": [
       "<Figure size 432x288 with 1 Axes>"
      ]
     },
     "metadata": {
      "needs_background": "light"
     },
     "output_type": "display_data"
    }
   ],
   "source": [
    "sns.boxplot(x = \"churn\", y = \"full_months_tenure\", hue = \"internet_service_details\", data = df)"
   ]
  },
  {
   "cell_type": "markdown",
   "id": "26c7158c",
   "metadata": {},
   "source": [
    "### Question 4 - What would the effect on revenue of eliminating the additional churn caused by the main drivers, and what recommendations would you make?"
   ]
  },
  {
   "cell_type": "markdown",
   "id": "429388e8",
   "metadata": {},
   "source": [
    "Using Tableau, I removed fiber optic and electronic check customers from the dataset.  This gave me a overall churn of 12.4%, and if we took a proportional month to month guess (17.6%/26.5% ~ x/12.4%) x, which is the approximate month to month churn, is closer to 8.2%.  \n",
    "\n",
    "If we can reduce the overall rate of churn to 8.2% per month we would prvent the following lost revenue to churn:\n",
    "\n",
    "(26.5% - 8.2%)/26.5% = Proportion of revenue saved\n",
    "\n",
    "Total Revenue Saved = Proportion of revenue saved * Total Churn Loss"
   ]
  },
  {
   "cell_type": "code",
   "execution_count": 164,
   "id": "4561f699",
   "metadata": {},
   "outputs": [
    {
     "data": {
      "text/plain": [
       "1640872.7432944572"
      ]
     },
     "execution_count": 164,
     "metadata": {},
     "output_type": "execute_result"
    }
   ],
   "source": [
    "proportion_of_revenue_saved = (26.5 - 8.2)/26.5\n",
    "total_revenue_saved = proportion_of_revenue_saved * total_churn_loss\n",
    "total_revenue_saved"
   ]
  },
  {
   "cell_type": "markdown",
   "id": "563fe217",
   "metadata": {},
   "source": [
    "#### Therefore, if we can reduce the churn driven by \n",
    "1. New customers (those lasting less than 2 months)\n",
    "2. Fiber optic users\n",
    "3. Those who pay by electronic check\n",
    "#### we can save $1.64M in revenue."
   ]
  },
  {
   "cell_type": "markdown",
   "id": "0ca1f73c",
   "metadata": {},
   "source": [
    "#### Considerations (from discoveries while analyzing the dataset):\n",
    "- Fiber optic is only used for Phone + Internet customers, although DSL may also be an alernative for these customers (although not sure if there are geographical or other limits).  In these situations, fiber costs, on average, (91.50-64.41) = 27.09 dollars more than DSL.  A potential cause of higher churn among Fiber is that the additional cost is not worth the additional performace over DSL.\n",
    "- Average monthly charges for electornic check customers are around 10 dollers  higher than credit card and bank transfer payees, and more than 30 dollars higher than mailed check.  This is because most Fiber customers are paying with electornic check, which seems to be compounding the issues Fiber already has (as electornic checks also dominate churn in other services, such as Internet Only (DSL).  I wouldn't be suprised if there was some kind of program put in place to get Fiber users to pay with electronic check, hence the high proportion of customes who pay that way."
   ]
  },
  {
   "cell_type": "markdown",
   "id": "ebaeba93",
   "metadata": {},
   "source": [
    "#### Recommendations:\n",
    "1. Offer a first 3 month deal of reduced rates to incentivize new customers to keep sticking around\n",
    "2. Where possible use DSL and not fiber optic cable.\n",
    "3. Eliminate or dis-incentivize electronic check usage and shift to other forms of payment - offer better terms for credit card users, as they are the lowest churn payment method."
   ]
  }
 ],
 "metadata": {
  "kernelspec": {
   "display_name": "Python 3 (ipykernel)",
   "language": "python",
   "name": "python3"
  },
  "language_info": {
   "codemirror_mode": {
    "name": "ipython",
    "version": 3
   },
   "file_extension": ".py",
   "mimetype": "text/x-python",
   "name": "python",
   "nbconvert_exporter": "python",
   "pygments_lexer": "ipython3",
   "version": "3.9.7"
  }
 },
 "nbformat": 4,
 "nbformat_minor": 5
}
